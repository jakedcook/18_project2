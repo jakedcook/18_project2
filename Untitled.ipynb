{
 "cells": [
  {
   "cell_type": "code",
   "execution_count": 1,
   "metadata": {},
   "outputs": [],
   "source": [
    "import requests\n",
    "import json\n",
    "import prettytable\n",
    "headers = {'Content-type': 'application/json'}\n",
    "data = json.dumps({\"seriesid\": [\n",
    "'LASST010000000000003','LASST020000000000003','LASST040000000000003'\n",
    ",'LASST050000000000003','LASST060000000000003','LASST080000000000003','LASST090000000000003'\n",
    ",'LASST100000000000003','LASST110000000000003','LASST120000000000003','LASST130000000000003'\n",
    ",'LASST150000000000003','LASST160000000000003','LASST170000000000003','LASST180000000000003'\n",
    ",'LASST190000000000003','LASST200000000000003','LASST210000000000003','LASST220000000000003'\n",
    ",'LASST230000000000003','LASST240000000000003','LASST250000000000003','LASST260000000000003'\n",
    ",'LASST270000000000003','LASST280000000000003','LASST290000000000003','LASST300000000000003'\n",
    ",'LASST310000000000003','LASST320000000000003','LASST330000000000003','LASST340000000000003'\n",
    ",'LASST350000000000003','LASST360000000000003','LASST370000000000003','LASST380000000000003'\n",
    ",'LASST390000000000003','LASST400000000000003','LASST410000000000003','LASST420000000000003'\n",
    ",'LASST440000000000003','LASST450000000000003','LASST460000000000003','LASST470000000000003'\n",
    ",'LASST480000000000003','LASST490000000000003','LASST500000000000003','LASST510000000000003'\n",
    ",'LASST530000000000003','LASST540000000000003','LASST550000000000003','LASST560000000000003'],\n",
    "\"startyear\": '2010',\"endyear\":'2019'})\n",
    "p = requests.post('https://api.bls.gov/publicAPI/v2/timeseries/data/', data=data, headers=headers)\n",
    "json_data = json.loads(p.text)\n",
    "for series in json_data['Results']['series']:\n",
    "    x=prettytable.PrettyTable([\"series id\",\"year\",\"period\",\"value\",\"footnotes\"])\n",
    "    seriesId = series['seriesID']\n",
    "    for item in series['data']:\n",
    "        year = item['year']\n",
    "        period = item['period']\n",
    "        value = item['value']\n",
    "        footnotes=\"\"\n",
    "        for footnote in item['footnotes']:\n",
    "            if footnote:\n",
    "                footnotes = footnotes + footnote['text'] + ','\n",
    "            if 'M01' == period <= 'M01':\n",
    "                x.add_row([seriesId,year,period,value,footnotes[0:-1]])\n",
    "    output = open(seriesId + '.txt','w')\n",
    "    output.write (x.get_string())\n",
    "    output.close()"
   ]
  },
  {
   "cell_type": "code",
   "execution_count": null,
   "metadata": {},
   "outputs": [],
   "source": []
  }
 ],
 "metadata": {
  "kernelspec": {
   "display_name": "Python 3",
   "language": "python",
   "name": "python3"
  },
  "language_info": {
   "codemirror_mode": {
    "name": "ipython",
    "version": 3
   },
   "file_extension": ".py",
   "mimetype": "text/x-python",
   "name": "python",
   "nbconvert_exporter": "python",
   "pygments_lexer": "ipython3",
   "version": "3.7.6"
  }
 },
 "nbformat": 4,
 "nbformat_minor": 4
}
